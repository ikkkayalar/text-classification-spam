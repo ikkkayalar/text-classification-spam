{
 "cells": [
  {
   "cell_type": "code",
   "execution_count": 1,
   "id": "24bb83c2",
   "metadata": {
    "_cell_guid": "b1076dfc-b9ad-4769-8c92-a6c4dae69d19",
    "_uuid": "8f2839f25d086af736a60e9eeb907d3b93b6e0e5",
    "execution": {
     "iopub.execute_input": "2022-02-09T10:35:37.586779Z",
     "iopub.status.busy": "2022-02-09T10:35:37.585527Z",
     "iopub.status.idle": "2022-02-09T10:35:39.699228Z",
     "shell.execute_reply": "2022-02-09T10:35:39.699776Z",
     "shell.execute_reply.started": "2022-02-09T10:20:51.846356Z"
    },
    "papermill": {
     "duration": 2.158042,
     "end_time": "2022-02-09T10:35:39.700125",
     "exception": false,
     "start_time": "2022-02-09T10:35:37.542083",
     "status": "completed"
    },
    "tags": []
   },
   "outputs": [],
   "source": [
    "import os\n",
    "\n",
    "import numpy as np\n",
    "import pandas as pd\n",
    "import re\n",
    "import nltk\n",
    "import string\n",
    "import matplotlib.pyplot as plt\n",
    "import seaborn as sns\n",
    "from sklearn.preprocessing import LabelEncoder\n",
    "import warnings \n",
    "warnings.filterwarnings('ignore')"
   ]
  },
  {
   "cell_type": "code",
   "execution_count": 2,
   "id": "d5b3a500",
   "metadata": {
    "execution": {
     "iopub.execute_input": "2022-02-09T10:35:39.780381Z",
     "iopub.status.busy": "2022-02-09T10:35:39.779629Z",
     "iopub.status.idle": "2022-02-09T10:35:39.842562Z",
     "shell.execute_reply": "2022-02-09T10:35:39.841883Z",
     "shell.execute_reply.started": "2022-02-09T10:20:56.163586Z"
    },
    "papermill": {
     "duration": 0.105108,
     "end_time": "2022-02-09T10:35:39.842736",
     "exception": false,
     "start_time": "2022-02-09T10:35:39.737628",
     "status": "completed"
    },
    "tags": []
   },
   "outputs": [
    {
     "data": {
      "text/html": [
       "<div>\n",
       "<style scoped>\n",
       "    .dataframe tbody tr th:only-of-type {\n",
       "        vertical-align: middle;\n",
       "    }\n",
       "\n",
       "    .dataframe tbody tr th {\n",
       "        vertical-align: top;\n",
       "    }\n",
       "\n",
       "    .dataframe thead th {\n",
       "        text-align: right;\n",
       "    }\n",
       "</style>\n",
       "<table border=\"1\" class=\"dataframe\">\n",
       "  <thead>\n",
       "    <tr style=\"text-align: right;\">\n",
       "      <th></th>\n",
       "      <th>Category</th>\n",
       "      <th>Message</th>\n",
       "    </tr>\n",
       "  </thead>\n",
       "  <tbody>\n",
       "    <tr>\n",
       "      <th>0</th>\n",
       "      <td>ham</td>\n",
       "      <td>Go until jurong point, crazy.. Available only ...</td>\n",
       "    </tr>\n",
       "    <tr>\n",
       "      <th>1</th>\n",
       "      <td>ham</td>\n",
       "      <td>Ok lar... Joking wif u oni...</td>\n",
       "    </tr>\n",
       "    <tr>\n",
       "      <th>2</th>\n",
       "      <td>spam</td>\n",
       "      <td>Free entry in 2 a wkly comp to win FA Cup fina...</td>\n",
       "    </tr>\n",
       "    <tr>\n",
       "      <th>3</th>\n",
       "      <td>ham</td>\n",
       "      <td>U dun say so early hor... U c already then say...</td>\n",
       "    </tr>\n",
       "    <tr>\n",
       "      <th>4</th>\n",
       "      <td>ham</td>\n",
       "      <td>Nah I don't think he goes to usf, he lives aro...</td>\n",
       "    </tr>\n",
       "  </tbody>\n",
       "</table>\n",
       "</div>"
      ],
      "text/plain": [
       "  Category                                            Message\n",
       "0      ham  Go until jurong point, crazy.. Available only ...\n",
       "1      ham                      Ok lar... Joking wif u oni...\n",
       "2     spam  Free entry in 2 a wkly comp to win FA Cup fina...\n",
       "3      ham  U dun say so early hor... U c already then say...\n",
       "4      ham  Nah I don't think he goes to usf, he lives aro..."
      ]
     },
     "execution_count": 2,
     "metadata": {},
     "output_type": "execute_result"
    }
   ],
   "source": [
    "df = pd.read_csv(\"SPAM text message 20170820 - Data.csv\")\n",
    "df.head()"
   ]
  },
  {
   "cell_type": "code",
   "execution_count": 3,
   "id": "4cbd0e70",
   "metadata": {
    "execution": {
     "iopub.execute_input": "2022-02-09T10:35:39.924045Z",
     "iopub.status.busy": "2022-02-09T10:35:39.923304Z",
     "iopub.status.idle": "2022-02-09T10:35:39.953116Z",
     "shell.execute_reply": "2022-02-09T10:35:39.953733Z",
     "shell.execute_reply.started": "2022-02-09T10:20:58.438572Z"
    },
    "papermill": {
     "duration": 0.072988,
     "end_time": "2022-02-09T10:35:39.953960",
     "exception": false,
     "start_time": "2022-02-09T10:35:39.880972",
     "status": "completed"
    },
    "tags": []
   },
   "outputs": [
    {
     "name": "stdout",
     "output_type": "stream",
     "text": [
      "<class 'pandas.core.frame.DataFrame'>\n",
      "RangeIndex: 5572 entries, 0 to 5571\n",
      "Data columns (total 2 columns):\n",
      " #   Column    Non-Null Count  Dtype \n",
      "---  ------    --------------  ----- \n",
      " 0   Category  5572 non-null   object\n",
      " 1   Message   5572 non-null   object\n",
      "dtypes: object(2)\n",
      "memory usage: 87.2+ KB\n"
     ]
    }
   ],
   "source": [
    "df.info()"
   ]
  },
  {
   "cell_type": "code",
   "execution_count": 4,
   "id": "7140c725",
   "metadata": {
    "execution": {
     "iopub.execute_input": "2022-02-09T10:35:40.035495Z",
     "iopub.status.busy": "2022-02-09T10:35:40.034777Z",
     "iopub.status.idle": "2022-02-09T10:35:40.457481Z",
     "shell.execute_reply": "2022-02-09T10:35:40.456853Z",
     "shell.execute_reply.started": "2022-02-09T10:21:00.841261Z"
    },
    "papermill": {
     "duration": 0.464908,
     "end_time": "2022-02-09T10:35:40.457660",
     "exception": false,
     "start_time": "2022-02-09T10:35:39.992752",
     "status": "completed"
    },
    "tags": []
   },
   "outputs": [
    {
     "data": {
      "text/plain": [
       "<AxesSubplot:ylabel='Category'>"
      ]
     },
     "execution_count": 4,
     "metadata": {},
     "output_type": "execute_result"
    },
    {
     "data": {
      "image/png": "[encoded data removed]",
      "text/plain": [
       "<Figure size 432x288 with 1 Axes>"
      ]
     },
     "metadata": {
      "needs_background": "light"
     },
     "output_type": "display_data"
    }
   ],
   "source": [
    "sns.barplot(df['Category'].value_counts().index, df['Category'].value_counts())"
   ]
  },
  {
   "cell_type": "code",
   "execution_count": 5,
   "id": "e8b5a97d",
   "metadata": {
    "execution": {
     "iopub.execute_input": "2022-02-09T10:35:40.615040Z",
     "iopub.status.busy": "2022-02-09T10:35:40.614086Z",
     "iopub.status.idle": "2022-02-09T10:35:40.626648Z",
     "shell.execute_reply": "2022-02-09T10:35:40.626089Z",
     "shell.execute_reply.started": "2022-02-09T10:21:07.186986Z"
    },
    "papermill": {
     "duration": 0.053934,
     "end_time": "2022-02-09T10:35:40.626793",
     "exception": false,
     "start_time": "2022-02-09T10:35:40.572859",
     "status": "completed"
    },
    "tags": []
   },
   "outputs": [
    {
     "data": {
      "text/html": [
       "<div>\n",
       "<style scoped>\n",
       "    .dataframe tbody tr th:only-of-type {\n",
       "        vertical-align: middle;\n",
       "    }\n",
       "\n",
       "    .dataframe tbody tr th {\n",
       "        vertical-align: top;\n",
       "    }\n",
       "\n",
       "    .dataframe thead th {\n",
       "        text-align: right;\n",
       "    }\n",
       "</style>\n",
       "<table border=\"1\" class=\"dataframe\">\n",
       "  <thead>\n",
       "    <tr style=\"text-align: right;\">\n",
       "      <th></th>\n",
       "      <th>Category</th>\n",
       "      <th>Message</th>\n",
       "    </tr>\n",
       "  </thead>\n",
       "  <tbody>\n",
       "    <tr>\n",
       "      <th>0</th>\n",
       "      <td>0</td>\n",
       "      <td>Go until jurong point, crazy.. Available only ...</td>\n",
       "    </tr>\n",
       "    <tr>\n",
       "      <th>1</th>\n",
       "      <td>0</td>\n",
       "      <td>Ok lar... Joking wif u oni...</td>\n",
       "    </tr>\n",
       "    <tr>\n",
       "      <th>2</th>\n",
       "      <td>1</td>\n",
       "      <td>Free entry in 2 a wkly comp to win FA Cup fina...</td>\n",
       "    </tr>\n",
       "    <tr>\n",
       "      <th>3</th>\n",
       "      <td>0</td>\n",
       "      <td>U dun say so early hor... U c already then say...</td>\n",
       "    </tr>\n",
       "    <tr>\n",
       "      <th>4</th>\n",
       "      <td>0</td>\n",
       "      <td>Nah I don't think he goes to usf, he lives aro...</td>\n",
       "    </tr>\n",
       "  </tbody>\n",
       "</table>\n",
       "</div>"
      ],
      "text/plain": [
       "   Category                                            Message\n",
       "0         0  Go until jurong point, crazy.. Available only ...\n",
       "1         0                      Ok lar... Joking wif u oni...\n",
       "2         1  Free entry in 2 a wkly comp to win FA Cup fina...\n",
       "3         0  U dun say so early hor... U c already then say...\n",
       "4         0  Nah I don't think he goes to usf, he lives aro..."
      ]
     },
     "execution_count": 5,
     "metadata": {},
     "output_type": "execute_result"
    }
   ],
   "source": [
    "le=LabelEncoder()\n",
    "df['Category']=le.fit_transform(df['Category'])\n",
    "df.head()"
   ]
  },
  {
   "cell_type": "code",
   "execution_count": 6,
   "id": "d65c5f15",
   "metadata": {
    "execution": {
     "iopub.execute_input": "2022-02-09T10:35:40.720743Z",
     "iopub.status.busy": "2022-02-09T10:35:40.719261Z",
     "iopub.status.idle": "2022-02-09T10:35:40.729347Z",
     "shell.execute_reply": "2022-02-09T10:35:40.728741Z",
     "shell.execute_reply.started": "2022-02-09T10:21:09.105162Z"
    },
    "papermill": {
     "duration": 0.059872,
     "end_time": "2022-02-09T10:35:40.729539",
     "exception": false,
     "start_time": "2022-02-09T10:35:40.669667",
     "status": "completed"
    },
    "tags": []
   },
   "outputs": [
    {
     "name": "stdout",
     "output_type": "stream",
     "text": [
      "X -- (5572, 1) \n",
      "y -- (5572,)\n"
     ]
    }
   ],
   "source": [
    "X = df.drop(['Category'], axis=1)\n",
    "y = df['Category']\n",
    "print(\"X --\", X.shape, \"\\ny --\", y.shape)"
   ]
  },
  {
   "cell_type": "code",
   "execution_count": 7,
   "id": "e7a0df6a",
   "metadata": {
    "execution": {
     "iopub.execute_input": "2022-02-09T10:35:40.902876Z",
     "iopub.status.busy": "2022-02-09T10:35:40.901869Z",
     "iopub.status.idle": "2022-02-09T10:35:40.914595Z",
     "shell.execute_reply": "2022-02-09T10:35:40.915233Z",
     "shell.execute_reply.started": "2022-02-09T10:21:16.741261Z"
    },
    "papermill": {
     "duration": 0.063485,
     "end_time": "2022-02-09T10:35:40.915464",
     "exception": false,
     "start_time": "2022-02-09T10:35:40.851979",
     "status": "completed"
    },
    "tags": []
   },
   "outputs": [
    {
     "name": "stdout",
     "output_type": "stream",
     "text": [
      "train_X shape:  (3788, 1)\n",
      "train_y shape:  (3788,)\n",
      "val_X shape:  (669, 1)\n",
      "val_y shape:  (669,)\n",
      "test_X shape:  (1115, 1)\n",
      "test_y shape:  (1115,)\n"
     ]
    }
   ],
   "source": [
    "from sklearn.model_selection import train_test_split\n",
    "X_train, test_X, y_train, test_y = train_test_split(X,y,test_size=0.2,random_state=42, stratify=y)\n",
    "\n",
    "train_X, val_X, train_y, val_y = train_test_split(X_train,y_train,test_size=0.15,random_state=0, stratify=y_train)\n",
    "\n",
    "print(\"train_X shape: \", train_X.shape)\n",
    "print(\"train_y shape: \", train_y.shape)\n",
    "print(\"val_X shape: \", val_X.shape)\n",
    "print(\"val_y shape: \", val_y.shape)\n",
    "print(\"test_X shape: \", test_X.shape)\n",
    "print(\"test_y shape: \", test_y.shape)"
   ]
  },
  {
   "cell_type": "code",
   "execution_count": 8,
   "id": "a42802a9",
   "metadata": {
    "execution": {
     "iopub.execute_input": "2022-02-09T10:35:41.165752Z",
     "iopub.status.busy": "2022-02-09T10:35:41.164905Z",
     "iopub.status.idle": "2022-02-09T10:35:41.179109Z",
     "shell.execute_reply": "2022-02-09T10:35:41.179680Z",
     "shell.execute_reply.started": "2022-02-09T10:21:23.540322Z"
    },
    "papermill": {
     "duration": 0.060917,
     "end_time": "2022-02-09T10:35:41.179892",
     "exception": false,
     "start_time": "2022-02-09T10:35:41.118975",
     "status": "completed"
    },
    "tags": []
   },
   "outputs": [
    {
     "data": {
      "text/html": [
       "<div>\n",
       "<style scoped>\n",
       "    .dataframe tbody tr th:only-of-type {\n",
       "        vertical-align: middle;\n",
       "    }\n",
       "\n",
       "    .dataframe tbody tr th {\n",
       "        vertical-align: top;\n",
       "    }\n",
       "\n",
       "    .dataframe thead th {\n",
       "        text-align: right;\n",
       "    }\n",
       "</style>\n",
       "<table border=\"1\" class=\"dataframe\">\n",
       "  <thead>\n",
       "    <tr style=\"text-align: right;\">\n",
       "      <th></th>\n",
       "      <th>Message</th>\n",
       "      <th>msg_lower</th>\n",
       "    </tr>\n",
       "  </thead>\n",
       "  <tbody>\n",
       "    <tr>\n",
       "      <th>927</th>\n",
       "      <td>But I'm on a diet. And I ate 1 too many slices...</td>\n",
       "      <td>but i'm on a diet. and i ate 1 too many slices...</td>\n",
       "    </tr>\n",
       "    <tr>\n",
       "      <th>4581</th>\n",
       "      <td>Hi ....My engagement has been fixd on  &amp;lt;#&amp;g...</td>\n",
       "      <td>hi ....my engagement has been fixd on  &amp;lt;#&amp;g...</td>\n",
       "    </tr>\n",
       "    <tr>\n",
       "      <th>2986</th>\n",
       "      <td>No break time one... How... I come out n get m...</td>\n",
       "      <td>no break time one... how... i come out n get m...</td>\n",
       "    </tr>\n",
       "    <tr>\n",
       "      <th>1237</th>\n",
       "      <td>How much are we getting?</td>\n",
       "      <td>how much are we getting?</td>\n",
       "    </tr>\n",
       "    <tr>\n",
       "      <th>4107</th>\n",
       "      <td>K then 2marrow are you coming to class.</td>\n",
       "      <td>k then 2marrow are you coming to class.</td>\n",
       "    </tr>\n",
       "  </tbody>\n",
       "</table>\n",
       "</div>"
      ],
      "text/plain": [
       "                                                Message  \\\n",
       "927   But I'm on a diet. And I ate 1 too many slices...   \n",
       "4581  Hi ....My engagement has been fixd on  &lt;#&g...   \n",
       "2986  No break time one... How... I come out n get m...   \n",
       "1237                           How much are we getting?   \n",
       "4107            K then 2marrow are you coming to class.   \n",
       "\n",
       "                                              msg_lower  \n",
       "927   but i'm on a diet. and i ate 1 too many slices...  \n",
       "4581  hi ....my engagement has been fixd on  &lt;#&g...  \n",
       "2986  no break time one... how... i come out n get m...  \n",
       "1237                           how much are we getting?  \n",
       "4107            k then 2marrow are you coming to class.  "
      ]
     },
     "execution_count": 8,
     "metadata": {},
     "output_type": "execute_result"
    }
   ],
   "source": [
    "train_X['msg_lower'] = train_X['Message'].str.lower()\n",
    "train_X.head()"
   ]
  },
  {
   "cell_type": "code",
   "execution_count": 9,
   "id": "c902d839",
   "metadata": {
    "execution": {
     "iopub.execute_input": "2022-02-09T10:35:41.352432Z",
     "iopub.status.busy": "2022-02-09T10:35:41.351757Z",
     "iopub.status.idle": "2022-02-09T10:35:41.381804Z",
     "shell.execute_reply": "2022-02-09T10:35:41.381134Z",
     "shell.execute_reply.started": "2022-02-09T10:21:27.779957Z"
    },
    "papermill": {
     "duration": 0.074801,
     "end_time": "2022-02-09T10:35:41.381968",
     "exception": false,
     "start_time": "2022-02-09T10:35:41.307167",
     "status": "completed"
    },
    "tags": []
   },
   "outputs": [
    {
     "data": {
      "text/html": [
       "<div>\n",
       "<style scoped>\n",
       "    .dataframe tbody tr th:only-of-type {\n",
       "        vertical-align: middle;\n",
       "    }\n",
       "\n",
       "    .dataframe tbody tr th {\n",
       "        vertical-align: top;\n",
       "    }\n",
       "\n",
       "    .dataframe thead th {\n",
       "        text-align: right;\n",
       "    }\n",
       "</style>\n",
       "<table border=\"1\" class=\"dataframe\">\n",
       "  <thead>\n",
       "    <tr style=\"text-align: right;\">\n",
       "      <th></th>\n",
       "      <th>Message</th>\n",
       "      <th>msg_lower</th>\n",
       "      <th>msg_wo_url</th>\n",
       "    </tr>\n",
       "  </thead>\n",
       "  <tbody>\n",
       "    <tr>\n",
       "      <th>927</th>\n",
       "      <td>But I'm on a diet. And I ate 1 too many slices...</td>\n",
       "      <td>but i'm on a diet. and i ate 1 too many slices...</td>\n",
       "      <td>but i'm on a diet. and i ate 1 too many slices...</td>\n",
       "    </tr>\n",
       "    <tr>\n",
       "      <th>4581</th>\n",
       "      <td>Hi ....My engagement has been fixd on  &amp;lt;#&amp;g...</td>\n",
       "      <td>hi ....my engagement has been fixd on  &amp;lt;#&amp;g...</td>\n",
       "      <td>hi ....my engagement has been fixd on  &amp;lt;#&amp;g...</td>\n",
       "    </tr>\n",
       "    <tr>\n",
       "      <th>2986</th>\n",
       "      <td>No break time one... How... I come out n get m...</td>\n",
       "      <td>no break time one... how... i come out n get m...</td>\n",
       "      <td>no break time one... how... i come out n get m...</td>\n",
       "    </tr>\n",
       "    <tr>\n",
       "      <th>1237</th>\n",
       "      <td>How much are we getting?</td>\n",
       "      <td>how much are we getting?</td>\n",
       "      <td>how much are we getting?</td>\n",
       "    </tr>\n",
       "    <tr>\n",
       "      <th>4107</th>\n",
       "      <td>K then 2marrow are you coming to class.</td>\n",
       "      <td>k then 2marrow are you coming to class.</td>\n",
       "      <td>k then 2marrow are you coming to class.</td>\n",
       "    </tr>\n",
       "  </tbody>\n",
       "</table>\n",
       "</div>"
      ],
      "text/plain": [
       "                                                Message  \\\n",
       "927   But I'm on a diet. And I ate 1 too many slices...   \n",
       "4581  Hi ....My engagement has been fixd on  &lt;#&g...   \n",
       "2986  No break time one... How... I come out n get m...   \n",
       "1237                           How much are we getting?   \n",
       "4107            K then 2marrow are you coming to class.   \n",
       "\n",
       "                                              msg_lower  \\\n",
       "927   but i'm on a diet. and i ate 1 too many slices...   \n",
       "4581  hi ....my engagement has been fixd on  &lt;#&g...   \n",
       "2986  no break time one... how... i come out n get m...   \n",
       "1237                           how much are we getting?   \n",
       "4107            k then 2marrow are you coming to class.   \n",
       "\n",
       "                                             msg_wo_url  \n",
       "927   but i'm on a diet. and i ate 1 too many slices...  \n",
       "4581  hi ....my engagement has been fixd on  &lt;#&g...  \n",
       "2986  no break time one... how... i come out n get m...  \n",
       "1237                           how much are we getting?  \n",
       "4107            k then 2marrow are you coming to class.  "
      ]
     },
     "execution_count": 9,
     "metadata": {},
     "output_type": "execute_result"
    }
   ],
   "source": [
    "def remove_urls(text):\n",
    "    url_pattern = re.compile(r'https?://\\S+|www\\.\\S+')\n",
    "    return url_pattern.sub(r'', text)\n",
    "\n",
    "train_X[\"msg_wo_url\"] = train_X[\"msg_lower\"].apply(lambda text: remove_urls(text))\n",
    "train_X.head()"
   ]
  },
  {
   "cell_type": "code",
   "execution_count": 10,
   "id": "3501baf0",
   "metadata": {
    "execution": {
     "iopub.execute_input": "2022-02-09T10:35:41.559332Z",
     "iopub.status.busy": "2022-02-09T10:35:41.558638Z",
     "iopub.status.idle": "2022-02-09T10:35:41.570860Z",
     "shell.execute_reply": "2022-02-09T10:35:41.571406Z",
     "shell.execute_reply.started": "2022-02-09T10:21:49.102146Z"
    },
    "papermill": {
     "duration": 0.058337,
     "end_time": "2022-02-09T10:35:41.571640",
     "exception": false,
     "start_time": "2022-02-09T10:35:41.513303",
     "status": "completed"
    },
    "tags": []
   },
   "outputs": [
    {
     "name": "stdout",
     "output_type": "stream",
     "text": [
      "i; me; my; myself; we; our; ours; ourselves; you; you're; you've; you'll; you'd; your; yours; yourself; yourselves; he; him; his; himself; she; she's; her; hers; herself; it; it's; its; itself; they; them; their; theirs; themselves; what; which; who; whom; this; that; that'll; these; those; am; is; are; was; were; be; been; being; have; has; had; having; do; does; did; doing; a; an; the; and; but; if; or; because; as; until; while; of; at; by; for; with; about; against; between; into; through; during; before; after; above; below; to; from; up; down; in; out; on; off; over; under; again; further; then; once; here; there; when; where; why; how; all; any; both; each; few; more; most; other; some; such; no; nor; not; only; own; same; so; than; too; very; s; t; can; will; just; don; don't; should; should've; now; d; ll; m; o; re; ve; y; ain; aren; aren't; couldn; couldn't; didn; didn't; doesn; doesn't; hadn; hadn't; hasn; hasn't; haven; haven't; isn; isn't; ma; mightn; mightn't; mustn; mustn't; needn; needn't; shan; shan't; shouldn; shouldn't; wasn; wasn't; weren; weren't; won; won't; wouldn; wouldn't\n"
     ]
    }
   ],
   "source": [
    "from nltk.corpus import stopwords\n",
    "stopword = set(stopwords.words('english'))\n",
    "print(\"; \".join(stopwords.words('english')))"
   ]
  },
  {
   "cell_type": "code",
   "execution_count": 11,
   "id": "8f1138ff",
   "metadata": {
    "execution": {
     "iopub.execute_input": "2022-02-09T10:35:41.676610Z",
     "iopub.status.busy": "2022-02-09T10:35:41.671679Z",
     "iopub.status.idle": "2022-02-09T10:35:41.698611Z",
     "shell.execute_reply": "2022-02-09T10:35:41.699257Z",
     "shell.execute_reply.started": "2022-02-09T10:21:55.565459Z"
    },
    "papermill": {
     "duration": 0.084014,
     "end_time": "2022-02-09T10:35:41.699481",
     "exception": false,
     "start_time": "2022-02-09T10:35:41.615467",
     "status": "completed"
    },
    "tags": []
   },
   "outputs": [
    {
     "data": {
      "text/html": [
       "<div>\n",
       "<style scoped>\n",
       "    .dataframe tbody tr th:only-of-type {\n",
       "        vertical-align: middle;\n",
       "    }\n",
       "\n",
       "    .dataframe tbody tr th {\n",
       "        vertical-align: top;\n",
       "    }\n",
       "\n",
       "    .dataframe thead th {\n",
       "        text-align: right;\n",
       "    }\n",
       "</style>\n",
       "<table border=\"1\" class=\"dataframe\">\n",
       "  <thead>\n",
       "    <tr style=\"text-align: right;\">\n",
       "      <th></th>\n",
       "      <th>Message</th>\n",
       "      <th>msg_lower</th>\n",
       "      <th>msg_wo_url</th>\n",
       "      <th>msg_wo_stopword</th>\n",
       "    </tr>\n",
       "  </thead>\n",
       "  <tbody>\n",
       "    <tr>\n",
       "      <th>927</th>\n",
       "      <td>But I'm on a diet. And I ate 1 too many slices...</td>\n",
       "      <td>but i'm on a diet. and i ate 1 too many slices...</td>\n",
       "      <td>but i'm on a diet. and i ate 1 too many slices...</td>\n",
       "      <td>i'm diet. ate 1 many slices pizza yesterday. u...</td>\n",
       "    </tr>\n",
       "    <tr>\n",
       "      <th>4581</th>\n",
       "      <td>Hi ....My engagement has been fixd on  &amp;lt;#&amp;g...</td>\n",
       "      <td>hi ....my engagement has been fixd on  &amp;lt;#&amp;g...</td>\n",
       "      <td>hi ....my engagement has been fixd on  &amp;lt;#&amp;g...</td>\n",
       "      <td>hi ....my engagement fixd &amp;lt;#&amp;gt; th next mo...</td>\n",
       "    </tr>\n",
       "    <tr>\n",
       "      <th>2986</th>\n",
       "      <td>No break time one... How... I come out n get m...</td>\n",
       "      <td>no break time one... how... i come out n get m...</td>\n",
       "      <td>no break time one... how... i come out n get m...</td>\n",
       "      <td>break time one... how... come n get stuff fr ü?</td>\n",
       "    </tr>\n",
       "    <tr>\n",
       "      <th>1237</th>\n",
       "      <td>How much are we getting?</td>\n",
       "      <td>how much are we getting?</td>\n",
       "      <td>how much are we getting?</td>\n",
       "      <td>much getting?</td>\n",
       "    </tr>\n",
       "    <tr>\n",
       "      <th>4107</th>\n",
       "      <td>K then 2marrow are you coming to class.</td>\n",
       "      <td>k then 2marrow are you coming to class.</td>\n",
       "      <td>k then 2marrow are you coming to class.</td>\n",
       "      <td>k 2marrow coming class.</td>\n",
       "    </tr>\n",
       "  </tbody>\n",
       "</table>\n",
       "</div>"
      ],
      "text/plain": [
       "                                                Message  \\\n",
       "927   But I'm on a diet. And I ate 1 too many slices...   \n",
       "4581  Hi ....My engagement has been fixd on  &lt;#&g...   \n",
       "2986  No break time one... How... I come out n get m...   \n",
       "1237                           How much are we getting?   \n",
       "4107            K then 2marrow are you coming to class.   \n",
       "\n",
       "                                              msg_lower  \\\n",
       "927   but i'm on a diet. and i ate 1 too many slices...   \n",
       "4581  hi ....my engagement has been fixd on  &lt;#&g...   \n",
       "2986  no break time one... how... i come out n get m...   \n",
       "1237                           how much are we getting?   \n",
       "4107            k then 2marrow are you coming to class.   \n",
       "\n",
       "                                             msg_wo_url  \\\n",
       "927   but i'm on a diet. and i ate 1 too many slices...   \n",
       "4581  hi ....my engagement has been fixd on  &lt;#&g...   \n",
       "2986  no break time one... how... i come out n get m...   \n",
       "1237                           how much are we getting?   \n",
       "4107            k then 2marrow are you coming to class.   \n",
       "\n",
       "                                        msg_wo_stopword  \n",
       "927   i'm diet. ate 1 many slices pizza yesterday. u...  \n",
       "4581  hi ....my engagement fixd &lt;#&gt; th next mo...  \n",
       "2986    break time one... how... come n get stuff fr ü?  \n",
       "1237                                      much getting?  \n",
       "4107                            k 2marrow coming class.  "
      ]
     },
     "execution_count": 11,
     "metadata": {},
     "output_type": "execute_result"
    }
   ],
   "source": [
    "def remove_stopwords(text):\n",
    "    \"\"\" custom function to remove the stopwords \"\"\"\n",
    "    return \" \".join([word for word in str(text).split() if word not in stopword])\n",
    "\n",
    "train_X['msg_wo_stopword'] = train_X['msg_wo_url'].apply(lambda text :remove_stopwords(text))\n",
    "train_X.head()"
   ]
  },
  {
   "cell_type": "code",
   "execution_count": 12,
   "id": "490d3904",
   "metadata": {
    "execution": {
     "iopub.execute_input": "2022-02-09T10:35:41.890922Z",
     "iopub.status.busy": "2022-02-09T10:35:41.888575Z",
     "iopub.status.idle": "2022-02-09T10:35:41.895076Z",
     "shell.execute_reply": "2022-02-09T10:35:41.894464Z",
     "shell.execute_reply.started": "2022-02-09T10:22:06.072524Z"
    },
    "papermill": {
     "duration": 0.056512,
     "end_time": "2022-02-09T10:35:41.895246",
     "exception": false,
     "start_time": "2022-02-09T10:35:41.838734",
     "status": "completed"
    },
    "tags": []
   },
   "outputs": [
    {
     "name": "stdout",
     "output_type": "stream",
     "text": [
      "!\"#$%&'()*+,-./:;<=>?@[\\]^_`{|}~\n"
     ]
    }
   ],
   "source": [
    "punc_to_remove = string.punctuation\n",
    "print(punc_to_remove)"
   ]
  },
  {
   "cell_type": "code",
   "execution_count": 13,
   "id": "17a21df9",
   "metadata": {
    "execution": {
     "iopub.execute_input": "2022-02-09T10:35:41.988139Z",
     "iopub.status.busy": "2022-02-09T10:35:41.987122Z",
     "iopub.status.idle": "2022-02-09T10:35:42.022325Z",
     "shell.execute_reply": "2022-02-09T10:35:42.022855Z",
     "shell.execute_reply.started": "2022-02-09T10:22:08.265357Z"
    },
    "papermill": {
     "duration": 0.082586,
     "end_time": "2022-02-09T10:35:42.023025",
     "exception": false,
     "start_time": "2022-02-09T10:35:41.940439",
     "status": "completed"
    },
    "tags": []
   },
   "outputs": [
    {
     "data": {
      "text/html": [
       "<div>\n",
       "<style scoped>\n",
       "    .dataframe tbody tr th:only-of-type {\n",
       "        vertical-align: middle;\n",
       "    }\n",
       "\n",
       "    .dataframe tbody tr th {\n",
       "        vertical-align: top;\n",
       "    }\n",
       "\n",
       "    .dataframe thead th {\n",
       "        text-align: right;\n",
       "    }\n",
       "</style>\n",
       "<table border=\"1\" class=\"dataframe\">\n",
       "  <thead>\n",
       "    <tr style=\"text-align: right;\">\n",
       "      <th></th>\n",
       "      <th>Message</th>\n",
       "      <th>msg_lower</th>\n",
       "      <th>msg_wo_url</th>\n",
       "      <th>msg_wo_stopword</th>\n",
       "      <th>msg_wo_punc</th>\n",
       "    </tr>\n",
       "  </thead>\n",
       "  <tbody>\n",
       "    <tr>\n",
       "      <th>927</th>\n",
       "      <td>But I'm on a diet. And I ate 1 too many slices...</td>\n",
       "      <td>but i'm on a diet. and i ate 1 too many slices...</td>\n",
       "      <td>but i'm on a diet. and i ate 1 too many slices...</td>\n",
       "      <td>i'm diet. ate 1 many slices pizza yesterday. u...</td>\n",
       "      <td>im diet ate 1 many slices pizza yesterday ugh ...</td>\n",
       "    </tr>\n",
       "    <tr>\n",
       "      <th>4581</th>\n",
       "      <td>Hi ....My engagement has been fixd on  &amp;lt;#&amp;g...</td>\n",
       "      <td>hi ....my engagement has been fixd on  &amp;lt;#&amp;g...</td>\n",
       "      <td>hi ....my engagement has been fixd on  &amp;lt;#&amp;g...</td>\n",
       "      <td>hi ....my engagement fixd &amp;lt;#&amp;gt; th next mo...</td>\n",
       "      <td>hi my engagement fixd ltgt th next month know ...</td>\n",
       "    </tr>\n",
       "    <tr>\n",
       "      <th>2986</th>\n",
       "      <td>No break time one... How... I come out n get m...</td>\n",
       "      <td>no break time one... how... i come out n get m...</td>\n",
       "      <td>no break time one... how... i come out n get m...</td>\n",
       "      <td>break time one... how... come n get stuff fr ü?</td>\n",
       "      <td>break time one how come n get stuff fr ü</td>\n",
       "    </tr>\n",
       "    <tr>\n",
       "      <th>1237</th>\n",
       "      <td>How much are we getting?</td>\n",
       "      <td>how much are we getting?</td>\n",
       "      <td>how much are we getting?</td>\n",
       "      <td>much getting?</td>\n",
       "      <td>much getting</td>\n",
       "    </tr>\n",
       "    <tr>\n",
       "      <th>4107</th>\n",
       "      <td>K then 2marrow are you coming to class.</td>\n",
       "      <td>k then 2marrow are you coming to class.</td>\n",
       "      <td>k then 2marrow are you coming to class.</td>\n",
       "      <td>k 2marrow coming class.</td>\n",
       "      <td>k 2marrow coming class</td>\n",
       "    </tr>\n",
       "  </tbody>\n",
       "</table>\n",
       "</div>"
      ],
      "text/plain": [
       "                                                Message  \\\n",
       "927   But I'm on a diet. And I ate 1 too many slices...   \n",
       "4581  Hi ....My engagement has been fixd on  &lt;#&g...   \n",
       "2986  No break time one... How... I come out n get m...   \n",
       "1237                           How much are we getting?   \n",
       "4107            K then 2marrow are you coming to class.   \n",
       "\n",
       "                                              msg_lower  \\\n",
       "927   but i'm on a diet. and i ate 1 too many slices...   \n",
       "4581  hi ....my engagement has been fixd on  &lt;#&g...   \n",
       "2986  no break time one... how... i come out n get m...   \n",
       "1237                           how much are we getting?   \n",
       "4107            k then 2marrow are you coming to class.   \n",
       "\n",
       "                                             msg_wo_url  \\\n",
       "927   but i'm on a diet. and i ate 1 too many slices...   \n",
       "4581  hi ....my engagement has been fixd on  &lt;#&g...   \n",
       "2986  no break time one... how... i come out n get m...   \n",
       "1237                           how much are we getting?   \n",
       "4107            k then 2marrow are you coming to class.   \n",
       "\n",
       "                                        msg_wo_stopword  \\\n",
       "927   i'm diet. ate 1 many slices pizza yesterday. u...   \n",
       "4581  hi ....my engagement fixd &lt;#&gt; th next mo...   \n",
       "2986    break time one... how... come n get stuff fr ü?   \n",
       "1237                                      much getting?   \n",
       "4107                            k 2marrow coming class.   \n",
       "\n",
       "                                            msg_wo_punc  \n",
       "927   im diet ate 1 many slices pizza yesterday ugh ...  \n",
       "4581  hi my engagement fixd ltgt th next month know ...  \n",
       "2986           break time one how come n get stuff fr ü  \n",
       "1237                                       much getting  \n",
       "4107                             k 2marrow coming class  "
      ]
     },
     "execution_count": 13,
     "metadata": {},
     "output_type": "execute_result"
    }
   ],
   "source": [
    "def remove_punctuation(text):\n",
    "    \"\"\"custom function to remove the punctuation\"\"\"\n",
    "    return text.translate(str.maketrans('', '', punc_to_remove))\n",
    "\n",
    "train_X['msg_wo_punc'] = train_X['msg_wo_stopword'].apply(lambda text: remove_punctuation(text))\n",
    "train_X.head()"
   ]
  },
  {
   "cell_type": "code",
   "execution_count": 14,
   "id": "01dd0832",
   "metadata": {
    "execution": {
     "iopub.execute_input": "2022-02-09T10:35:42.202255Z",
     "iopub.status.busy": "2022-02-09T10:35:42.201313Z",
     "iopub.status.idle": "2022-02-09T10:35:42.787397Z",
     "shell.execute_reply": "2022-02-09T10:35:42.788020Z",
     "shell.execute_reply.started": "2022-02-09T10:22:12.839397Z"
    },
    "papermill": {
     "duration": 0.634951,
     "end_time": "2022-02-09T10:35:42.788245",
     "exception": false,
     "start_time": "2022-02-09T10:35:42.153294",
     "status": "completed"
    },
    "tags": []
   },
   "outputs": [
    {
     "data": {
      "text/html": [
       "<div>\n",
       "<style scoped>\n",
       "    .dataframe tbody tr th:only-of-type {\n",
       "        vertical-align: middle;\n",
       "    }\n",
       "\n",
       "    .dataframe tbody tr th {\n",
       "        vertical-align: top;\n",
       "    }\n",
       "\n",
       "    .dataframe thead th {\n",
       "        text-align: right;\n",
       "    }\n",
       "</style>\n",
       "<table border=\"1\" class=\"dataframe\">\n",
       "  <thead>\n",
       "    <tr style=\"text-align: right;\">\n",
       "      <th></th>\n",
       "      <th>Message</th>\n",
       "      <th>msg_lower</th>\n",
       "      <th>msg_wo_url</th>\n",
       "      <th>msg_wo_stopword</th>\n",
       "      <th>msg_wo_punc</th>\n",
       "      <th>msg_stemmed</th>\n",
       "    </tr>\n",
       "  </thead>\n",
       "  <tbody>\n",
       "    <tr>\n",
       "      <th>927</th>\n",
       "      <td>But I'm on a diet. And I ate 1 too many slices...</td>\n",
       "      <td>but i'm on a diet. and i ate 1 too many slices...</td>\n",
       "      <td>but i'm on a diet. and i ate 1 too many slices...</td>\n",
       "      <td>i'm diet. ate 1 many slices pizza yesterday. u...</td>\n",
       "      <td>im diet ate 1 many slices pizza yesterday ugh ...</td>\n",
       "      <td>im diet ate 1 mani slice pizza yesterday ugh i...</td>\n",
       "    </tr>\n",
       "    <tr>\n",
       "      <th>4581</th>\n",
       "      <td>Hi ....My engagement has been fixd on  &amp;lt;#&amp;g...</td>\n",
       "      <td>hi ....my engagement has been fixd on  &amp;lt;#&amp;g...</td>\n",
       "      <td>hi ....my engagement has been fixd on  &amp;lt;#&amp;g...</td>\n",
       "      <td>hi ....my engagement fixd &amp;lt;#&amp;gt; th next mo...</td>\n",
       "      <td>hi my engagement fixd ltgt th next month know ...</td>\n",
       "      <td>hi my engag fixd ltgt th next month know reall...</td>\n",
       "    </tr>\n",
       "    <tr>\n",
       "      <th>2986</th>\n",
       "      <td>No break time one... How... I come out n get m...</td>\n",
       "      <td>no break time one... how... i come out n get m...</td>\n",
       "      <td>no break time one... how... i come out n get m...</td>\n",
       "      <td>break time one... how... come n get stuff fr ü?</td>\n",
       "      <td>break time one how come n get stuff fr ü</td>\n",
       "      <td>break time one how come n get stuff fr ü</td>\n",
       "    </tr>\n",
       "    <tr>\n",
       "      <th>1237</th>\n",
       "      <td>How much are we getting?</td>\n",
       "      <td>how much are we getting?</td>\n",
       "      <td>how much are we getting?</td>\n",
       "      <td>much getting?</td>\n",
       "      <td>much getting</td>\n",
       "      <td>much get</td>\n",
       "    </tr>\n",
       "    <tr>\n",
       "      <th>4107</th>\n",
       "      <td>K then 2marrow are you coming to class.</td>\n",
       "      <td>k then 2marrow are you coming to class.</td>\n",
       "      <td>k then 2marrow are you coming to class.</td>\n",
       "      <td>k 2marrow coming class.</td>\n",
       "      <td>k 2marrow coming class</td>\n",
       "      <td>k 2marrow come class</td>\n",
       "    </tr>\n",
       "  </tbody>\n",
       "</table>\n",
       "</div>"
      ],
      "text/plain": [
       "                                                Message  \\\n",
       "927   But I'm on a diet. And I ate 1 too many slices...   \n",
       "4581  Hi ....My engagement has been fixd on  &lt;#&g...   \n",
       "2986  No break time one... How... I come out n get m...   \n",
       "1237                           How much are we getting?   \n",
       "4107            K then 2marrow are you coming to class.   \n",
       "\n",
       "                                              msg_lower  \\\n",
       "927   but i'm on a diet. and i ate 1 too many slices...   \n",
       "4581  hi ....my engagement has been fixd on  &lt;#&g...   \n",
       "2986  no break time one... how... i come out n get m...   \n",
       "1237                           how much are we getting?   \n",
       "4107            k then 2marrow are you coming to class.   \n",
       "\n",
       "                                             msg_wo_url  \\\n",
       "927   but i'm on a diet. and i ate 1 too many slices...   \n",
       "4581  hi ....my engagement has been fixd on  &lt;#&g...   \n",
       "2986  no break time one... how... i come out n get m...   \n",
       "1237                           how much are we getting?   \n",
       "4107            k then 2marrow are you coming to class.   \n",
       "\n",
       "                                        msg_wo_stopword  \\\n",
       "927   i'm diet. ate 1 many slices pizza yesterday. u...   \n",
       "4581  hi ....my engagement fixd &lt;#&gt; th next mo...   \n",
       "2986    break time one... how... come n get stuff fr ü?   \n",
       "1237                                      much getting?   \n",
       "4107                            k 2marrow coming class.   \n",
       "\n",
       "                                            msg_wo_punc  \\\n",
       "927   im diet ate 1 many slices pizza yesterday ugh ...   \n",
       "4581  hi my engagement fixd ltgt th next month know ...   \n",
       "2986           break time one how come n get stuff fr ü   \n",
       "1237                                       much getting   \n",
       "4107                             k 2marrow coming class   \n",
       "\n",
       "                                            msg_stemmed  \n",
       "927   im diet ate 1 mani slice pizza yesterday ugh i...  \n",
       "4581  hi my engag fixd ltgt th next month know reall...  \n",
       "2986           break time one how come n get stuff fr ü  \n",
       "1237                                           much get  \n",
       "4107                               k 2marrow come class  "
      ]
     },
     "execution_count": 14,
     "metadata": {},
     "output_type": "execute_result"
    }
   ],
   "source": [
    "from nltk.stem.snowball import SnowballStemmer\n",
    "stemmer = SnowballStemmer('english')\n",
    "\n",
    "def stem_words(text):\n",
    "    return \" \".join([stemmer.stem(word) for word in text.split()])\n",
    "\n",
    "train_X[\"msg_stemmed\"] = train_X[\"msg_wo_punc\"].apply(lambda text: stem_words(text))\n",
    "train_X.head()"
   ]
  },
  {
   "cell_type": "code",
   "execution_count": 15,
   "id": "d9a82a63",
   "metadata": {
    "execution": {
     "iopub.execute_input": "2022-02-09T10:35:42.984668Z",
     "iopub.status.busy": "2022-02-09T10:35:42.983827Z",
     "iopub.status.idle": "2022-02-09T10:35:45.783965Z",
     "shell.execute_reply": "2022-02-09T10:35:45.784891Z",
     "shell.execute_reply.started": "2022-02-09T10:22:17.822088Z"
    },
    "papermill": {
     "duration": 2.85234,
     "end_time": "2022-02-09T10:35:45.785160",
     "exception": false,
     "start_time": "2022-02-09T10:35:42.932820",
     "status": "completed"
    },
    "tags": []
   },
   "outputs": [
    {
     "data": {
      "text/html": [
       "<div>\n",
       "<style scoped>\n",
       "    .dataframe tbody tr th:only-of-type {\n",
       "        vertical-align: middle;\n",
       "    }\n",
       "\n",
       "    .dataframe tbody tr th {\n",
       "        vertical-align: top;\n",
       "    }\n",
       "\n",
       "    .dataframe thead th {\n",
       "        text-align: right;\n",
       "    }\n",
       "</style>\n",
       "<table border=\"1\" class=\"dataframe\">\n",
       "  <thead>\n",
       "    <tr style=\"text-align: right;\">\n",
       "      <th></th>\n",
       "      <th>Message</th>\n",
       "      <th>msg_lower</th>\n",
       "      <th>msg_wo_url</th>\n",
       "      <th>msg_wo_stopword</th>\n",
       "      <th>msg_wo_punc</th>\n",
       "      <th>msg_stemmed</th>\n",
       "      <th>msg_lemmatized</th>\n",
       "    </tr>\n",
       "  </thead>\n",
       "  <tbody>\n",
       "    <tr>\n",
       "      <th>927</th>\n",
       "      <td>But I'm on a diet. And I ate 1 too many slices...</td>\n",
       "      <td>but i'm on a diet. and i ate 1 too many slices...</td>\n",
       "      <td>but i'm on a diet. and i ate 1 too many slices...</td>\n",
       "      <td>i'm diet. ate 1 many slices pizza yesterday. u...</td>\n",
       "      <td>im diet ate 1 many slices pizza yesterday ugh ...</td>\n",
       "      <td>im diet ate 1 mani slice pizza yesterday ugh i...</td>\n",
       "      <td>im diet ate 1 many slice pizza yesterday ugh i...</td>\n",
       "    </tr>\n",
       "    <tr>\n",
       "      <th>4581</th>\n",
       "      <td>Hi ....My engagement has been fixd on  &amp;lt;#&amp;g...</td>\n",
       "      <td>hi ....my engagement has been fixd on  &amp;lt;#&amp;g...</td>\n",
       "      <td>hi ....my engagement has been fixd on  &amp;lt;#&amp;g...</td>\n",
       "      <td>hi ....my engagement fixd &amp;lt;#&amp;gt; th next mo...</td>\n",
       "      <td>hi my engagement fixd ltgt th next month know ...</td>\n",
       "      <td>hi my engag fixd ltgt th next month know reall...</td>\n",
       "      <td>hi my engagement fixd ltgt th next month know ...</td>\n",
       "    </tr>\n",
       "    <tr>\n",
       "      <th>2986</th>\n",
       "      <td>No break time one... How... I come out n get m...</td>\n",
       "      <td>no break time one... how... i come out n get m...</td>\n",
       "      <td>no break time one... how... i come out n get m...</td>\n",
       "      <td>break time one... how... come n get stuff fr ü?</td>\n",
       "      <td>break time one how come n get stuff fr ü</td>\n",
       "      <td>break time one how come n get stuff fr ü</td>\n",
       "      <td>break time one how come n get stuff fr ü</td>\n",
       "    </tr>\n",
       "    <tr>\n",
       "      <th>1237</th>\n",
       "      <td>How much are we getting?</td>\n",
       "      <td>how much are we getting?</td>\n",
       "      <td>how much are we getting?</td>\n",
       "      <td>much getting?</td>\n",
       "      <td>much getting</td>\n",
       "      <td>much get</td>\n",
       "      <td>much getting</td>\n",
       "    </tr>\n",
       "    <tr>\n",
       "      <th>4107</th>\n",
       "      <td>K then 2marrow are you coming to class.</td>\n",
       "      <td>k then 2marrow are you coming to class.</td>\n",
       "      <td>k then 2marrow are you coming to class.</td>\n",
       "      <td>k 2marrow coming class.</td>\n",
       "      <td>k 2marrow coming class</td>\n",
       "      <td>k 2marrow come class</td>\n",
       "      <td>k 2marrow coming class</td>\n",
       "    </tr>\n",
       "  </tbody>\n",
       "</table>\n",
       "</div>"
      ],
      "text/plain": [
       "                                                Message  \\\n",
       "927   But I'm on a diet. And I ate 1 too many slices...   \n",
       "4581  Hi ....My engagement has been fixd on  &lt;#&g...   \n",
       "2986  No break time one... How... I come out n get m...   \n",
       "1237                           How much are we getting?   \n",
       "4107            K then 2marrow are you coming to class.   \n",
       "\n",
       "                                              msg_lower  \\\n",
       "927   but i'm on a diet. and i ate 1 too many slices...   \n",
       "4581  hi ....my engagement has been fixd on  &lt;#&g...   \n",
       "2986  no break time one... how... i come out n get m...   \n",
       "1237                           how much are we getting?   \n",
       "4107            k then 2marrow are you coming to class.   \n",
       "\n",
       "                                             msg_wo_url  \\\n",
       "927   but i'm on a diet. and i ate 1 too many slices...   \n",
       "4581  hi ....my engagement has been fixd on  &lt;#&g...   \n",
       "2986  no break time one... how... i come out n get m...   \n",
       "1237                           how much are we getting?   \n",
       "4107            k then 2marrow are you coming to class.   \n",
       "\n",
       "                                        msg_wo_stopword  \\\n",
       "927   i'm diet. ate 1 many slices pizza yesterday. u...   \n",
       "4581  hi ....my engagement fixd &lt;#&gt; th next mo...   \n",
       "2986    break time one... how... come n get stuff fr ü?   \n",
       "1237                                      much getting?   \n",
       "4107                            k 2marrow coming class.   \n",
       "\n",
       "                                            msg_wo_punc  \\\n",
       "927   im diet ate 1 many slices pizza yesterday ugh ...   \n",
       "4581  hi my engagement fixd ltgt th next month know ...   \n",
       "2986           break time one how come n get stuff fr ü   \n",
       "1237                                       much getting   \n",
       "4107                             k 2marrow coming class   \n",
       "\n",
       "                                            msg_stemmed  \\\n",
       "927   im diet ate 1 mani slice pizza yesterday ugh i...   \n",
       "4581  hi my engag fixd ltgt th next month know reall...   \n",
       "2986           break time one how come n get stuff fr ü   \n",
       "1237                                           much get   \n",
       "4107                               k 2marrow come class   \n",
       "\n",
       "                                         msg_lemmatized  \n",
       "927   im diet ate 1 many slice pizza yesterday ugh i...  \n",
       "4581  hi my engagement fixd ltgt th next month know ...  \n",
       "2986           break time one how come n get stuff fr ü  \n",
       "1237                                       much getting  \n",
       "4107                             k 2marrow coming class  "
      ]
     },
     "execution_count": 15,
     "metadata": {},
     "output_type": "execute_result"
    }
   ],
   "source": [
    "from nltk.stem import WordNetLemmatizer\n",
    "lemmatizer = WordNetLemmatizer()\n",
    "def lemmatize_words(text):\n",
    "    return \" \".join([lemmatizer.lemmatize(word) for word in text.split()])\n",
    "\n",
    "train_X[\"msg_lemmatized\"] = train_X[\"msg_wo_punc\"].apply(lambda text: lemmatize_words(text))\n",
    "train_X.head()"
   ]
  },
  {
   "cell_type": "code",
   "execution_count": 16,
   "id": "1c16ad5b",
   "metadata": {
    "execution": {
     "iopub.execute_input": "2022-02-09T10:35:45.887543Z",
     "iopub.status.busy": "2022-02-09T10:35:45.886619Z",
     "iopub.status.idle": "2022-02-09T10:35:45.901297Z",
     "shell.execute_reply": "2022-02-09T10:35:45.900521Z",
     "shell.execute_reply.started": "2022-02-09T10:22:23.229705Z"
    },
    "papermill": {
     "duration": 0.068185,
     "end_time": "2022-02-09T10:35:45.901509",
     "exception": false,
     "start_time": "2022-02-09T10:35:45.833324",
     "status": "completed"
    },
    "tags": []
   },
   "outputs": [],
   "source": [
    "train_X.drop(['Message', 'msg_lower', 'msg_wo_url', 'msg_wo_stopword', 'msg_wo_punc','msg_stemmed'], axis=1, inplace=True)"
   ]
  },
  {
   "cell_type": "code",
   "execution_count": 17,
   "id": "def7fdc3",
   "metadata": {
    "execution": {
     "iopub.execute_input": "2022-02-09T10:35:46.000896Z",
     "iopub.status.busy": "2022-02-09T10:35:45.999953Z",
     "iopub.status.idle": "2022-02-09T10:35:46.022532Z",
     "shell.execute_reply": "2022-02-09T10:35:46.023128Z",
     "shell.execute_reply.started": "2022-02-09T10:22:25.985946Z"
    },
    "papermill": {
     "duration": 0.073065,
     "end_time": "2022-02-09T10:35:46.023380",
     "exception": false,
     "start_time": "2022-02-09T10:35:45.950315",
     "status": "completed"
    },
    "tags": []
   },
   "outputs": [
    {
     "data": {
      "text/html": [
       "<div>\n",
       "<style scoped>\n",
       "    .dataframe tbody tr th:only-of-type {\n",
       "        vertical-align: middle;\n",
       "    }\n",
       "\n",
       "    .dataframe tbody tr th {\n",
       "        vertical-align: top;\n",
       "    }\n",
       "\n",
       "    .dataframe thead th {\n",
       "        text-align: right;\n",
       "    }\n",
       "</style>\n",
       "<table border=\"1\" class=\"dataframe\">\n",
       "  <thead>\n",
       "    <tr style=\"text-align: right;\">\n",
       "      <th></th>\n",
       "      <th>msg_lemmatized</th>\n",
       "      <th>Category</th>\n",
       "    </tr>\n",
       "  </thead>\n",
       "  <tbody>\n",
       "    <tr>\n",
       "      <th>927</th>\n",
       "      <td>im diet ate 1 many slice pizza yesterday ugh i...</td>\n",
       "      <td>0</td>\n",
       "    </tr>\n",
       "    <tr>\n",
       "      <th>4581</th>\n",
       "      <td>hi my engagement fixd ltgt th next month know ...</td>\n",
       "      <td>0</td>\n",
       "    </tr>\n",
       "    <tr>\n",
       "      <th>2986</th>\n",
       "      <td>break time one how come n get stuff fr ü</td>\n",
       "      <td>0</td>\n",
       "    </tr>\n",
       "    <tr>\n",
       "      <th>1237</th>\n",
       "      <td>much getting</td>\n",
       "      <td>0</td>\n",
       "    </tr>\n",
       "    <tr>\n",
       "      <th>4107</th>\n",
       "      <td>k 2marrow coming class</td>\n",
       "      <td>0</td>\n",
       "    </tr>\n",
       "  </tbody>\n",
       "</table>\n",
       "</div>"
      ],
      "text/plain": [
       "                                         msg_lemmatized  Category\n",
       "927   im diet ate 1 many slice pizza yesterday ugh i...         0\n",
       "4581  hi my engagement fixd ltgt th next month know ...         0\n",
       "2986           break time one how come n get stuff fr ü         0\n",
       "1237                                       much getting         0\n",
       "4107                             k 2marrow coming class         0"
      ]
     },
     "execution_count": 17,
     "metadata": {},
     "output_type": "execute_result"
    }
   ],
   "source": [
    "train = train_X.join(train_y)\n",
    "train.head()"
   ]
  },
  {
   "cell_type": "code",
   "execution_count": 18,
   "id": "730efc08",
   "metadata": {
    "execution": {
     "iopub.execute_input": "2022-02-09T10:35:46.140981Z",
     "iopub.status.busy": "2022-02-09T10:35:46.140184Z",
     "iopub.status.idle": "2022-02-09T10:35:46.312443Z",
     "shell.execute_reply": "2022-02-09T10:35:46.311308Z",
     "shell.execute_reply.started": "2022-02-09T10:22:31.224884Z"
    },
    "papermill": {
     "duration": 0.235999,
     "end_time": "2022-02-09T10:35:46.312631",
     "exception": false,
     "start_time": "2022-02-09T10:35:46.076632",
     "status": "completed"
    },
    "tags": []
   },
   "outputs": [
    {
     "data": {
      "text/plain": [
       "<AxesSubplot:ylabel='Category'>"
      ]
     },
     "execution_count": 18,
     "metadata": {},
     "output_type": "execute_result"
    },
    {
     "data": {
      "image/png": "[encoded data removed]",
      "text/plain": [
       "<Figure size 432x288 with 1 Axes>"
      ]
     },
     "metadata": {
      "needs_background": "light"
     },
     "output_type": "display_data"
    }
   ],
   "source": [
    "sns.barplot(train['Category'].value_counts().index, train['Category'].value_counts())"
   ]
  },
  {
   "cell_type": "code",
   "execution_count": 19,
   "id": "4543c696",
   "metadata": {
    "execution": {
     "iopub.execute_input": "2022-02-09T10:35:46.425988Z",
     "iopub.status.busy": "2022-02-09T10:35:46.425226Z",
     "iopub.status.idle": "2022-02-09T10:35:46.433982Z",
     "shell.execute_reply": "2022-02-09T10:35:46.433229Z",
     "shell.execute_reply.started": "2022-02-09T10:22:34.475638Z"
    },
    "papermill": {
     "duration": 0.066178,
     "end_time": "2022-02-09T10:35:46.434182",
     "exception": false,
     "start_time": "2022-02-09T10:35:46.368004",
     "status": "completed"
    },
    "tags": []
   },
   "outputs": [],
   "source": [
    "def preprocessing(df):\n",
    "    df['msg_lower'] = df['Message'].str.lower()\n",
    "    df[\"msg_wo_url\"] = df[\"msg_lower\"].apply(lambda text: remove_urls(text))\n",
    "    df['msg_wo_stopword'] = df['msg_wo_url'].apply(lambda text :remove_stopwords(text))\n",
    "    df['msg_wo_punc'] = df['msg_wo_stopword'].apply(lambda text: remove_punctuation(text))\n",
    "    df[\"msg_lemmatized\"] = df[\"msg_wo_punc\"].apply(lambda text: lemmatize_words(text))\n",
    "    df.drop(['Message', 'msg_lower', 'msg_wo_url', 'msg_wo_stopword', 'msg_wo_punc'], axis=1, inplace=True)\n",
    "    return df"
   ]
  },
  {
   "cell_type": "code",
   "execution_count": 20,
   "id": "85491831",
   "metadata": {
    "execution": {
     "iopub.execute_input": "2022-02-09T10:35:46.641765Z",
     "iopub.status.busy": "2022-02-09T10:35:46.641095Z",
     "iopub.status.idle": "2022-02-09T10:35:46.645349Z",
     "shell.execute_reply": "2022-02-09T10:35:46.646116Z",
     "shell.execute_reply.started": "2022-02-09T10:22:37.872307Z"
    },
    "papermill": {
     "duration": 0.06063,
     "end_time": "2022-02-09T10:35:46.646292",
     "exception": false,
     "start_time": "2022-02-09T10:35:46.585662",
     "status": "completed"
    },
    "tags": []
   },
   "outputs": [],
   "source": [
    "from sklearn.feature_extraction.text import CountVectorizer\n",
    "bow = CountVectorizer(max_features=3500)"
   ]
  },
  {
   "cell_type": "code",
   "execution_count": 21,
   "id": "6b6a7bc7",
   "metadata": {
    "execution": {
     "iopub.execute_input": "2022-02-09T10:35:46.763553Z",
     "iopub.status.busy": "2022-02-09T10:35:46.756048Z",
     "iopub.status.idle": "2022-02-09T10:35:46.885140Z",
     "shell.execute_reply": "2022-02-09T10:35:46.884518Z",
     "shell.execute_reply.started": "2022-02-09T10:22:39.089587Z"
    },
    "papermill": {
     "duration": 0.186185,
     "end_time": "2022-02-09T10:35:46.885300",
     "exception": false,
     "start_time": "2022-02-09T10:35:46.699115",
     "status": "completed"
    },
    "tags": []
   },
   "outputs": [
    {
     "data": {
      "text/plain": [
       "array([[0, 0, 0, ..., 0, 0, 0],\n",
       "       [0, 0, 0, ..., 0, 0, 0],\n",
       "       [0, 0, 0, ..., 0, 0, 0],\n",
       "       ...,\n",
       "       [0, 0, 0, ..., 0, 0, 0],\n",
       "       [0, 0, 0, ..., 0, 0, 0],\n",
       "       [0, 0, 0, ..., 0, 0, 0]])"
      ]
     },
     "execution_count": 21,
     "metadata": {},
     "output_type": "execute_result"
    }
   ],
   "source": [
    "train_vector = bow.fit_transform(train_X['msg_lemmatized']).toarray()\n",
    "train_vector"
   ]
  },
  {
   "cell_type": "code",
   "execution_count": 22,
   "id": "ce01d07c",
   "metadata": {
    "execution": {
     "iopub.execute_input": "2022-02-09T10:35:47.131861Z",
     "iopub.status.busy": "2022-02-09T10:35:47.126681Z",
     "iopub.status.idle": "2022-02-09T10:35:47.189480Z",
     "shell.execute_reply": "2022-02-09T10:35:47.188870Z",
     "shell.execute_reply.started": "2022-02-09T10:22:41.941254Z"
    },
    "papermill": {
     "duration": 0.150118,
     "end_time": "2022-02-09T10:35:47.189647",
     "exception": false,
     "start_time": "2022-02-09T10:35:47.039529",
     "status": "completed"
    },
    "tags": []
   },
   "outputs": [
    {
     "name": "stdout",
     "output_type": "stream",
     "text": [
      "(669, 1)\n"
     ]
    },
    {
     "data": {
      "text/plain": [
       "array([[0, 0, 0, ..., 0, 0, 0],\n",
       "       [0, 0, 0, ..., 0, 0, 0],\n",
       "       [0, 0, 0, ..., 0, 0, 0],\n",
       "       ...,\n",
       "       [0, 0, 0, ..., 0, 0, 0],\n",
       "       [0, 0, 0, ..., 0, 0, 0],\n",
       "       [0, 0, 0, ..., 0, 0, 0]])"
      ]
     },
     "execution_count": 22,
     "metadata": {},
     "output_type": "execute_result"
    }
   ],
   "source": [
    "val_X = preprocessing(val_X)\n",
    "print(val_X.shape)\n",
    "val_vector = bow.transform(val_X['msg_lemmatized']).toarray()\n",
    "val_vector"
   ]
  },
  {
   "cell_type": "code",
   "execution_count": 23,
   "id": "e3c1abea",
   "metadata": {
    "execution": {
     "iopub.execute_input": "2022-02-09T10:35:47.429392Z",
     "iopub.status.busy": "2022-02-09T10:35:47.422539Z",
     "iopub.status.idle": "2022-02-09T10:35:47.535017Z",
     "shell.execute_reply": "2022-02-09T10:35:47.534409Z",
     "shell.execute_reply.started": "2022-02-09T10:22:45.972542Z"
    },
    "papermill": {
     "duration": 0.184254,
     "end_time": "2022-02-09T10:35:47.535174",
     "exception": false,
     "start_time": "2022-02-09T10:35:47.350920",
     "status": "completed"
    },
    "tags": []
   },
   "outputs": [
    {
     "name": "stdout",
     "output_type": "stream",
     "text": [
      "(1115, 1)\n"
     ]
    },
    {
     "data": {
      "text/plain": [
       "array([[0, 0, 0, ..., 0, 0, 0],\n",
       "       [0, 0, 0, ..., 0, 0, 0],\n",
       "       [0, 0, 0, ..., 0, 0, 0],\n",
       "       ...,\n",
       "       [0, 0, 0, ..., 0, 0, 0],\n",
       "       [0, 0, 0, ..., 0, 0, 0],\n",
       "       [0, 0, 0, ..., 0, 0, 0]])"
      ]
     },
     "execution_count": 23,
     "metadata": {},
     "output_type": "execute_result"
    }
   ],
   "source": [
    "test_X = preprocessing(test_X)\n",
    "print(test_X.shape)\n",
    "test_vector = bow.transform(test_X['msg_lemmatized']).toarray()\n",
    "test_vector"
   ]
  },
  {
   "cell_type": "code",
   "execution_count": 24,
   "id": "7438d610",
   "metadata": {
    "execution": {
     "iopub.execute_input": "2022-02-09T10:35:47.738568Z",
     "iopub.status.busy": "2022-02-09T10:35:47.737795Z",
     "iopub.status.idle": "2022-02-09T10:35:48.053700Z",
     "shell.execute_reply": "2022-02-09T10:35:48.054265Z",
     "shell.execute_reply.started": "2022-02-09T10:22:50.442818Z"
    },
    "papermill": {
     "duration": 0.370935,
     "end_time": "2022-02-09T10:35:48.054488",
     "exception": false,
     "start_time": "2022-02-09T10:35:47.683553",
     "status": "completed"
    },
    "tags": []
   },
   "outputs": [],
   "source": [
    "from sklearn.naive_bayes import MultinomialNB\n",
    "\n",
    "nb = MultinomialNB().fit(train_vector,train_y)"
   ]
  },
  {
   "cell_type": "code",
   "execution_count": 25,
   "id": "310f43e2",
   "metadata": {
    "execution": {
     "iopub.execute_input": "2022-02-09T10:35:48.267959Z",
     "iopub.status.busy": "2022-02-09T10:35:48.267199Z",
     "iopub.status.idle": "2022-02-09T10:35:48.587638Z",
     "shell.execute_reply": "2022-02-09T10:35:48.586958Z",
     "shell.execute_reply.started": "2022-02-09T10:22:57.422564Z"
    },
    "papermill": {
     "duration": 0.374668,
     "end_time": "2022-02-09T10:35:48.587813",
     "exception": false,
     "start_time": "2022-02-09T10:35:48.213145",
     "status": "completed"
    },
    "tags": []
   },
   "outputs": [
    {
     "data": {
      "text/plain": [
       "<AxesSubplot:>"
      ]
     },
     "execution_count": 25,
     "metadata": {},
     "output_type": "execute_result"
    },
    {
     "data": {
      "image/png": "[encoded data removed]",
      "text/plain": [
       "<Figure size 432x288 with 2 Axes>"
      ]
     },
     "metadata": {
      "needs_background": "light"
     },
     "output_type": "display_data"
    }
   ],
   "source": [
    "import seaborn as sns\n",
    "from sklearn.metrics import confusion_matrix\n",
    "\n",
    "val_pred_nb = nb.predict(val_vector)\n",
    "cm=confusion_matrix(val_y,val_pred_nb)\n",
    "sns.heatmap(cm,cmap='BuPu',annot=True,fmt='d')"
   ]
  },
  {
   "cell_type": "code",
   "execution_count": 26,
   "id": "6343dfa0",
   "metadata": {
    "execution": {
     "iopub.execute_input": "2022-02-09T10:35:48.806903Z",
     "iopub.status.busy": "2022-02-09T10:35:48.805245Z",
     "iopub.status.idle": "2022-02-09T10:35:49.112271Z",
     "shell.execute_reply": "2022-02-09T10:35:49.112815Z",
     "shell.execute_reply.started": "2022-02-09T10:23:03.302080Z"
    },
    "papermill": {
     "duration": 0.365773,
     "end_time": "2022-02-09T10:35:49.113028",
     "exception": false,
     "start_time": "2022-02-09T10:35:48.747255",
     "status": "completed"
    },
    "tags": []
   },
   "outputs": [
    {
     "data": {
      "text/plain": [
       "<AxesSubplot:>"
      ]
     },
     "execution_count": 26,
     "metadata": {},
     "output_type": "execute_result"
    },
    {
     "data": {
      "image/png": "[encoded data removed]",
      "text/plain": [
       "<Figure size 432x288 with 2 Axes>"
      ]
     },
     "metadata": {
      "needs_background": "light"
     },
     "output_type": "display_data"
    }
   ],
   "source": [
    "test_pred_nb = nb.predict(test_vector)\n",
    "cm = confusion_matrix(test_y,test_pred_nb)\n",
    "sns.heatmap(cm,cmap='BuPu',annot=True,fmt='d')"
   ]
  },
  {
   "cell_type": "code",
   "execution_count": 27,
   "id": "0dc65a86",
   "metadata": {
    "execution": {
     "iopub.execute_input": "2022-02-09T10:35:49.335158Z",
     "iopub.status.busy": "2022-02-09T10:35:49.334207Z",
     "iopub.status.idle": "2022-02-09T10:36:06.497810Z",
     "shell.execute_reply": "2022-02-09T10:36:06.498315Z",
     "shell.execute_reply.started": "2022-02-09T10:23:07.206866Z"
    },
    "papermill": {
     "duration": 17.219952,
     "end_time": "2022-02-09T10:36:06.498556",
     "exception": false,
     "start_time": "2022-02-09T10:35:49.278604",
     "status": "completed"
    },
    "tags": []
   },
   "outputs": [],
   "source": [
    "from sklearn.ensemble import RandomForestClassifier\n",
    "\n",
    "rfc = RandomForestClassifier(random_state=0).fit(train_vector,train_y)"
   ]
  },
  {
   "cell_type": "code",
   "execution_count": 28,
   "id": "e491c4d1",
   "metadata": {
    "execution": {
     "iopub.execute_input": "2022-02-09T10:36:06.715739Z",
     "iopub.status.busy": "2022-02-09T10:36:06.714385Z",
     "iopub.status.idle": "2022-02-09T10:36:07.325093Z",
     "shell.execute_reply": "2022-02-09T10:36:07.324165Z",
     "shell.execute_reply.started": "2022-02-09T10:23:24.643524Z"
    },
    "papermill": {
     "duration": 0.669223,
     "end_time": "2022-02-09T10:36:07.325253",
     "exception": false,
     "start_time": "2022-02-09T10:36:06.656030",
     "status": "completed"
    },
    "tags": []
   },
   "outputs": [
    {
     "data": {
      "text/plain": [
       "<AxesSubplot:>"
      ]
     },
     "execution_count": 28,
     "metadata": {},
     "output_type": "execute_result"
    },
    {
     "data": {
      "image/png": "[encoded data removed]",
      "text/plain": [
       "<Figure size 432x288 with 2 Axes>"
      ]
     },
     "metadata": {
      "needs_background": "light"
     },
     "output_type": "display_data"
    }
   ],
   "source": [
    "val_pred_rfc = rfc.predict(val_vector)\n",
    "cm=confusion_matrix(val_y,val_pred_rfc)\n",
    "sns.heatmap(cm,cmap='BuPu',annot=True,fmt='d')"
   ]
  },
  {
   "cell_type": "code",
   "execution_count": 29,
   "id": "594da219",
   "metadata": {
    "execution": {
     "iopub.execute_input": "2022-02-09T10:36:07.542015Z",
     "iopub.status.busy": "2022-02-09T10:36:07.541016Z",
     "iopub.status.idle": "2022-02-09T10:36:07.916290Z",
     "shell.execute_reply": "2022-02-09T10:36:07.916795Z",
     "shell.execute_reply.started": "2022-02-09T10:23:30.499269Z"
    },
    "papermill": {
     "duration": 0.431949,
     "end_time": "2022-02-09T10:36:07.917013",
     "exception": false,
     "start_time": "2022-02-09T10:36:07.485064",
     "status": "completed"
    },
    "tags": []
   },
   "outputs": [
    {
     "data": {
      "text/plain": [
       "<AxesSubplot:>"
      ]
     },
     "execution_count": 29,
     "metadata": {},
     "output_type": "execute_result"
    },
    {
     "data": {
      "image/png": "[encoded data removed]",
      "text/plain": [
       "<Figure size 432x288 with 2 Axes>"
      ]
     },
     "metadata": {
      "needs_background": "light"
     },
     "output_type": "display_data"
    }
   ],
   "source": [
    "test_pred_rfc = rfc.predict(test_vector)\n",
    "cm = confusion_matrix(test_y,test_pred_rfc)\n",
    "sns.heatmap(cm,cmap='BuPu',annot=True,fmt='d')"
   ]
  },
  {
   "cell_type": "code",
   "execution_count": 30,
   "id": "4bd946a4",
   "metadata": {
    "execution": {
     "iopub.execute_input": "2022-02-09T10:36:08.141326Z",
     "iopub.status.busy": "2022-02-09T10:36:08.140637Z",
     "iopub.status.idle": "2022-02-09T10:36:08.743516Z",
     "shell.execute_reply": "2022-02-09T10:36:08.744433Z",
     "shell.execute_reply.started": "2022-02-09T10:23:38.380325Z"
    },
    "papermill": {
     "duration": 0.662591,
     "end_time": "2022-02-09T10:36:08.744739",
     "exception": false,
     "start_time": "2022-02-09T10:36:08.082148",
     "status": "completed"
    },
    "tags": []
   },
   "outputs": [],
   "source": [
    "from sklearn.linear_model import LogisticRegression\n",
    "\n",
    "lrc = LogisticRegression().fit(train_vector,train_y)"
   ]
  },
  {
   "cell_type": "code",
   "execution_count": 31,
   "id": "723a39b0",
   "metadata": {
    "execution": {
     "iopub.execute_input": "2022-02-09T10:36:09.021687Z",
     "iopub.status.busy": "2022-02-09T10:36:09.021022Z",
     "iopub.status.idle": "2022-02-09T10:36:09.304911Z",
     "shell.execute_reply": "2022-02-09T10:36:09.304059Z",
     "shell.execute_reply.started": "2022-02-09T10:23:42.762400Z"
    },
    "papermill": {
     "duration": 0.34383,
     "end_time": "2022-02-09T10:36:09.305101",
     "exception": false,
     "start_time": "2022-02-09T10:36:08.961271",
     "status": "completed"
    },
    "tags": []
   },
   "outputs": [
    {
     "data": {
      "text/plain": [
       "<AxesSubplot:>"
      ]
     },
     "execution_count": 31,
     "metadata": {},
     "output_type": "execute_result"
    },
    {
     "data": {
      "image/png": "[encoded data removed]",
      "text/plain": [
       "<Figure size 432x288 with 2 Axes>"
      ]
     },
     "metadata": {
      "needs_background": "light"
     },
     "output_type": "display_data"
    }
   ],
   "source": [
    "val_pred_lrc = lrc.predict(val_vector)\n",
    "cm=confusion_matrix(val_y,val_pred_lrc)\n",
    "sns.heatmap(cm,cmap='BuPu',annot=True,fmt='d')"
   ]
  },
  {
   "cell_type": "code",
   "execution_count": 32,
   "id": "84b37b7c",
   "metadata": {
    "execution": {
     "iopub.execute_input": "2022-02-09T10:36:09.531690Z",
     "iopub.status.busy": "2022-02-09T10:36:09.530986Z",
     "iopub.status.idle": "2022-02-09T10:36:09.835487Z",
     "shell.execute_reply": "2022-02-09T10:36:09.836012Z",
     "shell.execute_reply.started": "2022-02-09T10:23:46.514957Z"
    },
    "papermill": {
     "duration": 0.363963,
     "end_time": "2022-02-09T10:36:09.836211",
     "exception": false,
     "start_time": "2022-02-09T10:36:09.472248",
     "status": "completed"
    },
    "tags": []
   },
   "outputs": [
    {
     "data": {
      "text/plain": [
       "<AxesSubplot:>"
      ]
     },
     "execution_count": 32,
     "metadata": {},
     "output_type": "execute_result"
    },
    {
     "data": {
      "image/png": "[encoded data removed]",
      "text/plain": [
       "<Figure size 432x288 with 2 Axes>"
      ]
     },
     "metadata": {
      "needs_background": "light"
     },
     "output_type": "display_data"
    }
   ],
   "source": [
    "test_pred_lrc = lrc.predict(test_vector)\n",
    "cm = confusion_matrix(test_y,test_pred_lrc)\n",
    "sns.heatmap(cm,cmap='BuPu',annot=True,fmt='d')"
   ]
  },
  {
   "cell_type": "code",
   "execution_count": null,
   "id": "8f7677c9",
   "metadata": {},
   "outputs": [],
   "source": []
  }
 ],
 "metadata": {
  "kernelspec": {
   "display_name": "Python 3 (ipykernel)",
   "language": "python",
   "name": "python3"
  },
  "language_info": {
   "codemirror_mode": {
    "name": "ipython",
    "version": 3
   },
   "file_extension": ".py",
   "mimetype": "text/x-python",
   "name": "python",
   "nbconvert_exporter": "python",
   "pygments_lexer": "ipython3",
   "version": "3.9.5"
  },
  "papermill": {
   "default_parameters": {},
   "duration": 46.817862,
   "end_time": "2022-02-09T10:36:11.521347",
   "environment_variables": {},
   "exception": null,
   "input_path": "__notebook__.ipynb",
   "output_path": "__notebook__.ipynb",
   "parameters": {},
   "start_time": "2022-02-09T10:35:24.703485",
   "version": "2.3.3"
  }
 },
 "nbformat": 4,
 "nbformat_minor": 5
}
